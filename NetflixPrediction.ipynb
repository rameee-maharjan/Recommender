{
 "cells": [
  {
   "cell_type": "code",
   "execution_count": 1,
   "metadata": {
    "scrolled": true
   },
   "outputs": [
    {
     "name": "stdout",
     "output_type": "stream",
     "text": [
      "dict_keys([28, 48, 305, 577, 595, 816, 907, 992, 1061, 1744, 1832, 1993, 2110, 2344, 2786, 2808, 3253, 3257, 3271, 3418, 3740, 3944, 4049, 4061, 4544, 4566, 4737, 4761, 4981, 5267, 5835, 5877, 5943, 6289, 6482, 6650, 6666, 7116, 7186, 7726, 8249, 8561, 8566, 8781, 9087, 9256, 9855, 10576, 10721, 11009, 11158, 11288, 11380, 11418, 11688, 11965, 12292, 12422, 12510, 12538, 12824, 13055, 13186, 13431, 13604, 13633, 13905, 13927, 14137, 14279, 14575, 14712, 14793, 14800, 14807, 14962, 15449, 15478, 15480, 15516, 15576, 15582, 15661, 15714, 15726, 15785, 15992, 16082, 16576, 16820, 16933, 17137])\n",
      "Total number of movies 92\n"
     ]
    }
   ],
   "source": [
    "from collections import defaultdict\n",
    "\n",
    "import numpy as np\n",
    "import math\n",
    "\n",
    "#ITM[m][u] stores rating score for movie m and user u\n",
    "#SIM[m1][m2] stores similarity score between movie m1 and m2\n",
    "\n",
    "SIM = defaultdict(dict)\n",
    "ITM = defaultdict(dict)\n",
    "movies = defaultdict(list)\n",
    "path = \"C:/Data D/Spring 2021/Machine Learning/project/netflix/ratings.txt\"\n",
    "#path = \"D:/Spring 2021/ML/project/netflix/ratings.txt\"\n",
    "file = open(path, \"r\")\n",
    "\n",
    "users_list = []\n",
    "\n",
    "for l in file:\n",
    "    parts = l.strip().split(\",\")\n",
    "    movieId = int(parts[0])\n",
    "    userId = int(parts[1])\n",
    "    # find list of distinct users in the dataset\n",
    "    if userId not in users_list:\n",
    "        users_list.append(userId)\n",
    "        \n",
    "    rating = float(parts[2])\n",
    "    ITM[int(movieId)][userId] = rating\n",
    "file.close()\n",
    "print(ITM.keys())\n",
    "print(\"Total number of movies\", len(ITM))\n",
    "#print(len(users_list))\n",
    "\n",
    "\n",
    "        \n",
    "    "
   ]
  },
  {
   "cell_type": "markdown",
   "metadata": {},
   "source": [
    "# Movie-to-movie similarity calculation using correlation coefficient"
   ]
  },
  {
   "cell_type": "code",
   "execution_count": 2,
   "metadata": {},
   "outputs": [
    {
     "name": "stderr",
     "output_type": "stream",
     "text": [
      "C:\\Users\\ramee\\Anaconda3\\envs\\ml_env\\lib\\site-packages\\numpy\\lib\\function_base.py:380: RuntimeWarning: Mean of empty slice.\n",
      "  avg = a.mean(axis)\n",
      "C:\\Users\\ramee\\Anaconda3\\envs\\ml_env\\lib\\site-packages\\numpy\\core\\_methods.py:163: RuntimeWarning: invalid value encountered in true_divide\n",
      "  ret, rcount, out=ret, casting='unsafe', subok=False)\n",
      "C:\\Users\\ramee\\Anaconda3\\envs\\ml_env\\lib\\site-packages\\numpy\\lib\\function_base.py:2551: RuntimeWarning: Degrees of freedom <= 0 for slice\n",
      "  c = cov(x, y, rowvar)\n",
      "C:\\Users\\ramee\\Anaconda3\\envs\\ml_env\\lib\\site-packages\\numpy\\lib\\function_base.py:2480: RuntimeWarning: divide by zero encountered in true_divide\n",
      "  c *= np.true_divide(1, fact)\n",
      "C:\\Users\\ramee\\Anaconda3\\envs\\ml_env\\lib\\site-packages\\numpy\\lib\\function_base.py:2480: RuntimeWarning: invalid value encountered in multiply\n",
      "  c *= np.true_divide(1, fact)\n",
      "C:\\Users\\ramee\\Anaconda3\\envs\\ml_env\\lib\\site-packages\\numpy\\lib\\function_base.py:2559: RuntimeWarning: invalid value encountered in true_divide\n",
      "  c /= stddev[:, None]\n",
      "C:\\Users\\ramee\\Anaconda3\\envs\\ml_env\\lib\\site-packages\\numpy\\lib\\function_base.py:2560: RuntimeWarning: invalid value encountered in true_divide\n",
      "  c /= stddev[None, :]\n"
     ]
    }
   ],
   "source": [
    "for movie1 in ITM.keys():\n",
    "    for movie2 in ITM.keys():\n",
    "        if movie1 == movie2:\n",
    "            continue\n",
    "        # List of ratings given by user to movie1\n",
    "        R1 = []\n",
    "        # List of ratings given by user to movie2\n",
    "        R2 = []\n",
    "        commonusers = []\n",
    "        \n",
    "        for user in ITM[movie1].keys():\n",
    "            if user in ITM[movie2]:\n",
    "                commonusers.append(user)\n",
    "                \n",
    "        for user in commonusers:\n",
    "            R1.append(ITM[movie1][user])\n",
    "            R2.append(ITM[movie2][user])\n",
    "            \n",
    "        #Converting the list of all the ratings given by a user to numpy array    \n",
    "        aV1 = np.array(R1)\n",
    "        aV2 = np.array(R2)\n",
    "        \n",
    "        # Correlation coefficient calculated based on the ratings for the movies by common users      \n",
    "        SIM[movie1][movie2] = np.corrcoef(aV1,aV2)[0][1]\n",
    "        \n",
    "#print(SIM.items())\n",
    "#sorted(SIM.items(), reverse = True)\n",
    "\n"
   ]
  },
  {
   "cell_type": "markdown",
   "metadata": {},
   "source": [
    "# Randomly choose a movie and user for rating prediction"
   ]
  },
  {
   "cell_type": "code",
   "execution_count": 3,
   "metadata": {},
   "outputs": [
    {
     "name": "stdout",
     "output_type": "stream",
     "text": [
      "12422\n"
     ]
    }
   ],
   "source": [
    "import random\n",
    "movies_list = list(ITM.keys())\n",
    "#print(movies_list)\n",
    "m = random.choice(movies_list)\n",
    "print(m)"
   ]
  },
  {
   "cell_type": "code",
   "execution_count": 4,
   "metadata": {},
   "outputs": [
    {
     "name": "stdout",
     "output_type": "stream",
     "text": [
      "534960\n"
     ]
    }
   ],
   "source": [
    "# randomly choose a userId that has not rated 'movie'. This userId will be used in movie recommendation also.\n",
    "while(True):\n",
    "    u = random.choice(users_list)\n",
    "    # check if the movie is rated by the user\n",
    "    if u not in ITM[m]:\n",
    "        break\n",
    "        \n",
    "print(u)"
   ]
  },
  {
   "cell_type": "markdown",
   "metadata": {},
   "source": [
    "# Movie rating prediction"
   ]
  },
  {
   "cell_type": "code",
   "execution_count": 5,
   "metadata": {},
   "outputs": [],
   "source": [
    "# sorting by descending order of similarity value for SIM[m]\n",
    "sort_SIM = sorted(SIM[m].items(), key=lambda x: x[1], reverse=True)"
   ]
  },
  {
   "cell_type": "code",
   "execution_count": 6,
   "metadata": {},
   "outputs": [
    {
     "name": "stdout",
     "output_type": "stream",
     "text": [
      "Similar movies rated by the user: 534960\n",
      "MovieId\t\tSimilarity\tRating\n",
      "907 \t 0.9389823514358473 \t 3.0\n",
      "4049 \t 0.8639434502514524 \t 1.0\n",
      "3740 \t 0.6508565823603468 \t 3.0\n",
      "1832 \t 0.3472587275762752 \t 4.0\n",
      "6482 \t 0.1355044753767294 \t 3.0\n",
      "4761 \t -0.06247467208692541 \t 2.0\n",
      "1744 \t -0.18250743668740388 \t 4.0\n",
      "14712 \t 0.17863102388997776 \t 2.0\n",
      "15582 \t -0.15988748934011968 \t 1.0\n",
      "\n",
      "Prediction score for movie 12422  by user  534960 :  2.5555555555555554\n"
     ]
    }
   ],
   "source": [
    "#STEPS TO DO\n",
    "#MAKE PREDICTIONS USING ITM AND SIM\n",
    "#GIVEN a movie m and an user u for which you want to make a prediction do the following\n",
    "#ITERATE OVER SIM[m] to get all the movies (say m1) similar to m and their similarity weights SIM[m][m1]\n",
    "#For each movie (m1) similar to m get the rating given by user u for that movie using ITM[m1][u]\n",
    "#Use the equation (aggregating over all similar movies) to make the prediction\n",
    "\n",
    "#Setting k value as 15 to fetch the 15 movies that are close enough(neighbors) to 'm' and predict its rating accordingly\n",
    "k = 15\n",
    "i = 0\n",
    "rating = 0\n",
    "rated_movies = []\n",
    "\n",
    "print(\"Similar movies rated by the user:\",u)\n",
    "print(\"MovieId\\t\\tSimilarity\\tRating\")\n",
    "\n",
    "for movie,sim in sort_SIM:\n",
    "    # if user u has rated movie \n",
    "    if u in ITM[movie]:\n",
    "        print(movie,\"\\t\", sim,\"\\t\", ITM[movie][u])\n",
    "        #Add the movies that are similar and rated by user\n",
    "        rated_movies.append(movie)\n",
    "        # to ensure only the 15 most similar movies watched by user are taken for calculating average to make the prediction\n",
    "        if i < k :\n",
    "            rating += ITM[movie][u]\n",
    "            i += 1\n",
    "\n",
    "print(\"\\nPrediction score for movie\",m,\" by user \",u,\": \", rating/i)   \n",
    "\n",
    "\n"
   ]
  },
  {
   "cell_type": "code",
   "execution_count": 7,
   "metadata": {},
   "outputs": [
    {
     "name": "stdout",
     "output_type": "stream",
     "text": [
      "[907, 1744, 1832, 3740, 6482]\n"
     ]
    }
   ],
   "source": [
    "# All movies rated 3 or higher by u (Assuming user rates 3 or higher to the movies s/he likes)\n",
    "users_movies = []\n",
    "for movie in ITM.keys():\n",
    "    if u in ITM[movie] and ITM[movie][u] >=3.0 :\n",
    "        users_movies.append(movie)\n",
    "print(users_movies)"
   ]
  },
  {
   "cell_type": "code",
   "execution_count": 10,
   "metadata": {},
   "outputs": [],
   "source": [
    "# Find top most similar movies to each movie rated by user\n",
    "all_SIM = []\n",
    "for m in users_movies:\n",
    "    sort_SIM = sorted(SIM[m].items(), key=lambda x: x[1], reverse=True)[:10]\n",
    "    #print(sort_SIM)\n",
    "    # add these movie and similarity to a single list\n",
    "    all_SIM.extend(sort_SIM)\n",
    "#print(all_SIM) \n",
    "#Sort the all the movies based on similarity\n",
    "all_SIM.sort(key=lambda a: a[1], reverse=True)\n",
    "#print(all_SIM)\n",
    "\n",
    "# Remove duplicate records for the movie from the list\n",
    "seen = set()\n",
    "rec_movies = [(a, b) for a, b in all_SIM \n",
    "         if not (a in seen or seen.add(a))]\n",
    "\n",
    "#print(rec_movies)"
   ]
  },
  {
   "cell_type": "markdown",
   "metadata": {},
   "source": [
    "# Movie Recommendation"
   ]
  },
  {
   "cell_type": "code",
   "execution_count": 9,
   "metadata": {},
   "outputs": [
    {
     "name": "stdout",
     "output_type": "stream",
     "text": [
      "Recommended movies for user 534960 are:\n",
      "14279\n",
      "12422\n",
      "816\n",
      "3271\n",
      "2110\n",
      "5267\n",
      "15478\n",
      "15714\n",
      "14800\n",
      "4566\n"
     ]
    }
   ],
   "source": [
    "# Displaying top 10 movies as recommendations\n",
    "print(\"Recommended movies for user\",u,\"are:\")\n",
    "for movie,sim in rec_movies[:10]:\n",
    "    print(movie)\n",
    "    "
   ]
  },
  {
   "cell_type": "code",
   "execution_count": null,
   "metadata": {},
   "outputs": [],
   "source": []
  },
  {
   "cell_type": "code",
   "execution_count": null,
   "metadata": {},
   "outputs": [],
   "source": []
  },
  {
   "cell_type": "code",
   "execution_count": null,
   "metadata": {},
   "outputs": [],
   "source": []
  }
 ],
 "metadata": {
  "kernelspec": {
   "display_name": "Python 3",
   "language": "python",
   "name": "python3"
  },
  "language_info": {
   "codemirror_mode": {
    "name": "ipython",
    "version": 3
   },
   "file_extension": ".py",
   "mimetype": "text/x-python",
   "name": "python",
   "nbconvert_exporter": "python",
   "pygments_lexer": "ipython3",
   "version": "3.7.9"
  }
 },
 "nbformat": 4,
 "nbformat_minor": 4
}
